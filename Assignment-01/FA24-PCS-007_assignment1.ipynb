{
 "cells": [
  {
   "cell_type": "markdown",
   "id": "a3ea2418-8694-4c3b-acea-d60f4c20c86b",
   "metadata": {},
   "source": [
    "### !conda list\n",
    "The !conda list command is used to display a list of all the packages installed in the current conda environment. This command is especially useful for checking which libraries are available, their versions."
   ]
  },
  {
   "cell_type": "code",
   "execution_count": 1,
   "id": "80ddb09a-5550-4599-8b5c-5aa519abbd20",
   "metadata": {},
   "outputs": [
    {
     "name": "stdout",
     "output_type": "stream",
     "text": [
      "# packages in environment at C:\\Users\\Admin\\anaconda3:\n",
      "#\n",
      "# Name                    Version                   Build  Channel\n",
      "_anaconda_depends         2024.06             py312_mkl_2  \n",
      "abseil-cpp                20211102.0           hd77b12b_0  \n",
      "aext-assistant            4.0.15          py312haa95532_jl4_0  \n",
      "aext-assistant-server     4.0.15          py312haa95532_0  \n",
      "aext-core                 4.0.15          py312haa95532_jl4_0  \n",
      "aext-core-server          4.0.15          py312haa95532_1  \n",
      "aext-panels               4.0.15          py312haa95532_0  \n",
      "aext-panels-server        4.0.15          py312haa95532_0  \n",
      "aext-share-notebook       4.0.15          py312haa95532_0  \n",
      "aext-share-notebook-server 4.0.15          py312haa95532_0  \n",
      "aext-shared               4.0.15          py312haa95532_0  \n",
      "aiobotocore               2.12.3          py312haa95532_0  \n",
      "aiohttp                   3.9.5           py312h2bbff1b_0  \n",
      "aioitertools              0.7.1              pyhd3eb1b0_0  \n",
      "aiosignal                 1.2.0              pyhd3eb1b0_0  \n",
      "alabaster                 0.7.16          py312haa95532_0  \n",
      "altair                    5.0.1           py312haa95532_0  \n",
      "anaconda-anon-usage       0.4.4           py312hfc23b7f_100  \n",
      "anaconda-catalogs         0.2.0           py312haa95532_1  \n",
      "anaconda-client           1.12.3          py312haa95532_0  \n",
      "anaconda-cloud-auth       0.5.1           py312haa95532_0  \n",
      "anaconda-navigator        2.6.0           py312haa95532_0  \n",
      "anaconda-project          0.11.1          py312haa95532_0  \n",
      "anaconda-toolbox          4.0.15          py312haa95532_0  \n",
      "annotated-types           0.6.0           py312haa95532_0  \n",
      "anyio                     4.2.0           py312haa95532_0  \n",
      "aom                       3.6.0                hd77b12b_0  \n",
      "appdirs                   1.4.4              pyhd3eb1b0_0  \n",
      "archspec                  0.2.3              pyhd3eb1b0_0  \n",
      "argon2-cffi               21.3.0             pyhd3eb1b0_0  \n",
      "argon2-cffi-bindings      21.2.0          py312h2bbff1b_0  \n",
      "arrow                     1.2.3           py312haa95532_1  \n",
      "arrow-cpp                 14.0.2               ha81ea56_1  \n",
      "astroid                   2.14.2          py312haa95532_0  \n",
      "astropy                   6.1.0           py312h4b0e54e_0  \n",
      "astropy-iers-data         0.2024.6.3.0.31.14 py312haa95532_0  \n",
      "asttokens                 2.0.5              pyhd3eb1b0_0  \n",
      "async-lru                 2.0.4           py312haa95532_0  \n",
      "atomicwrites              1.4.0                      py_0  \n",
      "attrs                     23.1.0          py312haa95532_0  \n",
      "automat                   20.2.0                     py_0  \n",
      "autopep8                  2.0.4              pyhd3eb1b0_0  \n",
      "aws-c-auth                0.6.19               h2bbff1b_0  \n",
      "aws-c-cal                 0.5.20               h2bbff1b_0  \n",
      "aws-c-common              0.8.5                h2bbff1b_0  \n",
      "aws-c-compression         0.2.16               h2bbff1b_0  \n",
      "aws-c-event-stream        0.2.15               hd77b12b_0  \n",
      "aws-c-http                0.6.25               h2bbff1b_0  \n",
      "aws-c-io                  0.13.10              h2bbff1b_0  \n",
      "aws-c-mqtt                0.7.13               h2bbff1b_0  \n",
      "aws-c-s3                  0.1.51               h2bbff1b_0  \n",
      "aws-c-sdkutils            0.1.6                h2bbff1b_0  \n",
      "aws-checksums             0.1.13               h2bbff1b_0  \n",
      "aws-crt-cpp               0.18.16              hd77b12b_0  \n",
      "aws-sdk-cpp               1.10.55              hd77b12b_0  \n",
      "babel                     2.11.0          py312haa95532_0  \n",
      "bcrypt                    3.2.0           py312h2bbff1b_1  \n",
      "beautifulsoup4            4.12.3          py312haa95532_0  \n",
      "binaryornot               0.4.4              pyhd3eb1b0_1  \n",
      "black                     24.4.2          py312haa95532_0  \n",
      "blas                      1.0                         mkl  \n",
      "bleach                    4.1.0              pyhd3eb1b0_0  \n",
      "blinker                   1.6.2           py312haa95532_0  \n",
      "blosc                     1.21.3               h6c2663c_0  \n",
      "bokeh                     3.4.1           py312hfc267ef_0  \n",
      "boltons                   23.0.0          py312haa95532_0  \n",
      "boost-cpp                 1.82.0               h59b6b97_2  \n",
      "botocore                  1.34.69         py312haa95532_0  \n",
      "bottleneck                1.3.7           py312he558020_0  \n",
      "brotli                    1.0.9                h2bbff1b_8  \n",
      "brotli-bin                1.0.9                h2bbff1b_8  \n",
      "brotli-python             1.0.9           py312hd77b12b_8  \n",
      "bzip2                     1.0.8                h2bbff1b_6  \n",
      "c-ares                    1.19.1               h2bbff1b_0  \n",
      "c-blosc2                  2.12.0               h2f4ed9d_0  \n",
      "ca-certificates           2024.7.2             haa95532_0  \n",
      "cachetools                5.3.3           py312haa95532_0  \n",
      "certifi                   2024.8.30       py312haa95532_0  \n",
      "cffi                      1.16.0          py312h2bbff1b_1  \n",
      "cfitsio                   3.470                h2bbff1b_7  \n",
      "chardet                   4.0.0           py312haa95532_1003  \n",
      "charls                    2.2.0                h6c2663c_0  \n",
      "charset-normalizer        2.0.4              pyhd3eb1b0_0  \n",
      "click                     8.1.7           py312haa95532_0  \n",
      "cloudpickle               2.2.1           py312haa95532_0  \n",
      "colorama                  0.4.6           py312haa95532_0  \n",
      "colorcet                  3.1.0           py312haa95532_0  \n",
      "comm                      0.2.1           py312haa95532_0  \n",
      "conda                     24.7.1          py312haa95532_0  \n",
      "conda-build               24.5.1          py312haa95532_0  \n",
      "conda-content-trust       0.2.0           py312haa95532_1  \n",
      "conda-index               0.5.0           py312haa95532_0  \n",
      "conda-libmamba-solver     24.1.0             pyhd3eb1b0_0  \n",
      "conda-pack                0.7.1           py312haa95532_0  \n",
      "conda-package-handling    2.3.0           py312haa95532_0  \n",
      "conda-package-streaming   0.10.0          py312haa95532_0  \n",
      "conda-repo-cli            1.0.88          py312haa95532_0  \n",
      "conda-token               0.5.0              pyhd3eb1b0_0  \n",
      "console_shortcut          0.1.1                haa95532_6  \n",
      "constantly                23.10.4         py312haa95532_0  \n",
      "contourpy                 1.2.0           py312h59b6b97_0  \n",
      "cookiecutter              2.6.0           py312haa95532_0  \n",
      "cryptography              42.0.5          py312h89fc84f_1  \n",
      "cssselect                 1.2.0           py312haa95532_0  \n",
      "curl                      8.7.1                he2ea4bf_0  \n",
      "cycler                    0.11.0             pyhd3eb1b0_0  \n",
      "cytoolz                   0.12.2          py312h2bbff1b_0  \n",
      "dask                      2024.5.0        py312haa95532_0  \n",
      "dask-core                 2024.5.0        py312haa95532_0  \n",
      "dask-expr                 1.1.0           py312haa95532_0  \n",
      "datashader                0.16.2          py312haa95532_0  \n",
      "dav1d                     1.2.1                h2bbff1b_0  \n",
      "debugpy                   1.6.7           py312hd77b12b_0  \n",
      "decorator                 5.1.1              pyhd3eb1b0_0  \n",
      "defusedxml                0.7.1              pyhd3eb1b0_0  \n",
      "diff-match-patch          20200713           pyhd3eb1b0_0  \n",
      "dill                      0.3.8           py312haa95532_0  \n",
      "distributed               2024.5.0        py312haa95532_0  \n",
      "distro                    1.9.0           py312haa95532_0  \n",
      "docstring-to-markdown     0.11            py312haa95532_0  \n",
      "docutils                  0.18.1          py312haa95532_3  \n",
      "entrypoints               0.4             py312haa95532_0  \n",
      "et_xmlfile                1.1.0           py312haa95532_1  \n",
      "executing                 0.8.3              pyhd3eb1b0_0  \n",
      "expat                     2.6.2                hd77b12b_0  \n",
      "filelock                  3.13.1          py312haa95532_0  \n",
      "flake8                    7.0.0           py312haa95532_0  \n",
      "flask                     3.0.3           py312haa95532_0  \n",
      "fmt                       9.1.0                h6d14046_1  \n",
      "fonttools                 4.51.0          py312h2bbff1b_0  \n",
      "freetype                  2.12.1               ha860e81_0  \n",
      "frozendict                2.4.2           py312haa95532_0  \n",
      "frozenlist                1.4.0           py312h2bbff1b_0  \n",
      "fsspec                    2024.3.1        py312haa95532_0  \n",
      "gensim                    4.3.2           py312hc7c4135_0  \n",
      "gflags                    2.2.2                hd77b12b_1  \n",
      "giflib                    5.2.1                h8cc25b3_3  \n",
      "gitdb                     4.0.7              pyhd3eb1b0_0  \n",
      "gitpython                 3.1.37          py312haa95532_0  \n",
      "glog                      0.5.0                hd77b12b_1  \n",
      "greenlet                  3.0.1           py312hd77b12b_0  \n",
      "grpc-cpp                  1.48.2               hfe90ff0_1  \n",
      "h11                       0.14.0          py312haa95532_0  \n",
      "h5py                      3.11.0          py312h59a1360_0  \n",
      "hdf5                      1.12.1               h51c971a_3  \n",
      "heapdict                  1.0.1              pyhd3eb1b0_0  \n",
      "holoviews                 1.19.0          py312haa95532_0  \n",
      "httpcore                  1.0.2           py312haa95532_0  \n",
      "httpx                     0.27.0          py312haa95532_0  \n",
      "hvplot                    0.10.0          py312haa95532_0  \n",
      "hyperlink                 21.0.0             pyhd3eb1b0_0  \n",
      "icc_rt                    2022.1.0             h6049295_2  \n",
      "icu                       73.1                 h6c2663c_0  \n",
      "idna                      3.7             py312haa95532_0  \n",
      "imagecodecs               2023.1.23       py312hd5bf116_1  \n",
      "imageio                   2.33.1          py312haa95532_0  \n",
      "imagesize                 1.4.1           py312haa95532_0  \n",
      "imbalanced-learn          0.12.3          py312haa95532_1  \n",
      "importlib-metadata        7.0.1           py312haa95532_0  \n",
      "incremental               22.10.0            pyhd3eb1b0_0  \n",
      "inflection                0.5.1           py312haa95532_1  \n",
      "iniconfig                 1.1.1              pyhd3eb1b0_0  \n",
      "intake                    0.7.0           py312haa95532_0  \n",
      "intel-openmp              2023.1.0         h59b6b97_46320  \n",
      "intervaltree              3.1.0              pyhd3eb1b0_0  \n",
      "ipykernel                 6.28.0          py312haa95532_0  \n",
      "ipython                   8.25.0          py312haa95532_0  \n",
      "ipython_genutils          0.2.0              pyhd3eb1b0_1  \n",
      "ipywidgets                7.8.1           py312haa95532_0  \n",
      "isort                     5.13.2          py312haa95532_0  \n",
      "itemadapter               0.3.0              pyhd3eb1b0_0  \n",
      "itemloaders               1.1.0           py312haa95532_0  \n",
      "itsdangerous              2.2.0           py312haa95532_0  \n",
      "jaraco.classes            3.2.1              pyhd3eb1b0_0  \n",
      "jedi                      0.18.1          py312haa95532_1  \n",
      "jellyfish                 1.0.1           py312h36a85e1_0  \n",
      "jinja2                    3.1.4           py312haa95532_0  \n",
      "jmespath                  1.0.1           py312haa95532_0  \n",
      "joblib                    1.4.2           py312haa95532_0  \n",
      "jpeg                      9e                   h2bbff1b_1  \n",
      "jq                        1.6                  haa95532_1  \n",
      "json5                     0.9.6              pyhd3eb1b0_0  \n",
      "jsonpatch                 1.33            py312haa95532_1  \n",
      "jsonpointer               2.1                pyhd3eb1b0_0  \n",
      "jsonschema                4.19.2          py312haa95532_0  \n",
      "jsonschema-specifications 2023.7.1        py312haa95532_0  \n",
      "jupyter                   1.0.0           py312haa95532_9  \n",
      "jupyter-lsp               2.2.0           py312haa95532_0  \n",
      "jupyter_client            8.6.0           py312haa95532_0  \n",
      "jupyter_console           6.6.3           py312haa95532_1  \n",
      "jupyter_core              5.7.2           py312haa95532_0  \n",
      "jupyter_events            0.10.0          py312haa95532_0  \n",
      "jupyter_server            2.14.1          py312haa95532_0  \n",
      "jupyter_server_terminals  0.4.4           py312haa95532_1  \n",
      "jupyterlab                4.0.11          py312haa95532_0  \n",
      "jupyterlab-variableinspector 3.1.0           py312haa95532_0  \n",
      "jupyterlab_pygments       0.1.2                      py_0  \n",
      "jupyterlab_server         2.25.1          py312haa95532_0  \n",
      "jupyterlab_widgets        1.0.0              pyhd3eb1b0_1  \n",
      "keyring                   24.3.1          py312haa95532_0  \n",
      "kiwisolver                1.4.4           py312hd77b12b_0  \n",
      "krb5                      1.20.1               h5b6d351_0  \n",
      "lazy-object-proxy         1.10.0          py312h2bbff1b_0  \n",
      "lazy_loader               0.4             py312haa95532_0  \n",
      "lcms2                     2.12                 h83e58a3_0  \n",
      "lerc                      3.0                  hd77b12b_0  \n",
      "libaec                    1.0.4                h33f27b4_1  \n",
      "libarchive                3.6.2                hb62f4d4_3  \n",
      "libavif                   0.11.1               h2bbff1b_0  \n",
      "libboost                  1.82.0               h3399ecb_2  \n",
      "libbrotlicommon           1.0.9                h2bbff1b_8  \n",
      "libbrotlidec              1.0.9                h2bbff1b_8  \n",
      "libbrotlienc              1.0.9                h2bbff1b_8  \n",
      "libclang                  14.0.6          default_hb5a9fac_1  \n",
      "libclang13                14.0.6          default_h8e68704_1  \n",
      "libcurl                   8.7.1                h86230a5_0  \n",
      "libdeflate                1.17                 h2bbff1b_1  \n",
      "libevent                  2.1.12               h56d1f94_1  \n",
      "libffi                    3.4.4                hd77b12b_1  \n",
      "libiconv                  1.16                 h2bbff1b_3  \n",
      "liblief                   0.12.3               hd77b12b_0  \n",
      "libmamba                  1.5.8                h99b1521_2  \n",
      "libmambapy                1.5.8           py312h77c03ed_2  \n",
      "libpng                    1.6.39               h8cc25b3_0  \n",
      "libpq                     12.17                h906ac69_0  \n",
      "libprotobuf               3.20.3               h23ce68f_0  \n",
      "libsodium                 1.0.18               h62dcd97_0  \n",
      "libsolv                   0.7.24               h23ce68f_1  \n",
      "libspatialindex           1.9.3                h6c2663c_0  \n",
      "libssh2                   1.11.0               h291bd65_0  \n",
      "libthrift                 0.15.0               h4364b78_2  \n",
      "libtiff                   4.5.1                hd77b12b_0  \n",
      "libwebp-base              1.3.2                h2bbff1b_0  \n",
      "libxml2                   2.10.4               h0ad7f3c_2  \n",
      "libxslt                   1.1.37               h2bbff1b_1  \n",
      "libzopfli                 1.0.3                ha925a31_0  \n",
      "linkify-it-py             2.0.0           py312haa95532_0  \n",
      "llvmlite                  0.42.0          py312hf2fb9eb_0  \n",
      "locket                    1.0.0           py312haa95532_0  \n",
      "lxml                      5.2.1           py312h09808a7_0  \n",
      "lz4                       4.3.2           py312h2bbff1b_0  \n",
      "lz4-c                     1.9.4                h2bbff1b_1  \n",
      "lzo                       2.10                 he774522_2  \n",
      "m2-msys2-runtime          2.5.0.17080.65c939c               3  \n",
      "m2-patch                  2.7.5                         2  \n",
      "m2w64-libwinpthread-git   5.0.0.4634.697f757               2  \n",
      "markdown                  3.4.1           py312haa95532_0  \n",
      "markdown-it-py            2.2.0           py312haa95532_1  \n",
      "markupsafe                2.1.3           py312h2bbff1b_0  \n",
      "matplotlib                3.8.4           py312haa95532_0  \n",
      "matplotlib-base           3.8.4           py312hc7c4135_0  \n",
      "matplotlib-inline         0.1.6           py312haa95532_0  \n",
      "mccabe                    0.7.0              pyhd3eb1b0_0  \n",
      "mdit-py-plugins           0.3.0           py312haa95532_0  \n",
      "mdurl                     0.1.0           py312haa95532_0  \n",
      "menuinst                  2.1.1           py312h5da7b33_0  \n",
      "mistune                   2.0.4           py312haa95532_0  \n",
      "mkl                       2023.1.0         h6b88ed4_46358  \n",
      "mkl-service               2.4.0           py312h2bbff1b_1  \n",
      "mkl_fft                   1.3.8           py312h2bbff1b_0  \n",
      "mkl_random                1.2.4           py312h59b6b97_0  \n",
      "more-itertools            10.1.0          py312haa95532_0  \n",
      "mpmath                    1.3.0           py312haa95532_0  \n",
      "msgpack-python            1.0.3           py312h59b6b97_0  \n",
      "msys2-conda-epoch         20160418                      1  \n",
      "multidict                 6.0.4           py312h2bbff1b_0  \n",
      "multipledispatch          0.6.0           py312haa95532_0  \n",
      "mypy                      1.10.0          py312h827c3e9_0  \n",
      "mypy_extensions           1.0.0           py312haa95532_0  \n",
      "navigator-updater         0.5.1           py312haa95532_0  \n",
      "nbclient                  0.8.0           py312haa95532_0  \n",
      "nbconvert                 7.10.0          py312haa95532_0  \n",
      "nbformat                  5.9.2           py312haa95532_0  \n",
      "nest-asyncio              1.6.0           py312haa95532_0  \n",
      "networkx                  3.2.1           py312haa95532_0  \n",
      "nltk                      3.8.1           py312haa95532_0  \n",
      "notebook                  7.0.8           py312haa95532_0  \n",
      "notebook-shim             0.2.3           py312haa95532_0  \n",
      "numba                     0.59.1          py312hc7c4135_0  \n",
      "numexpr                   2.8.7           py312h96b7d27_0  \n",
      "numpy                     1.26.4          py312hfd52020_0  \n",
      "numpy-base                1.26.4          py312h4dde369_0  \n",
      "numpydoc                  1.7.0           py312haa95532_0  \n",
      "openjpeg                  2.4.0                h4fc8c34_0  \n",
      "openpyxl                  3.1.2           py312h2bbff1b_0  \n",
      "openssl                   3.0.15               h827c3e9_0  \n",
      "orc                       1.7.4                h623e30f_1  \n",
      "overrides                 7.4.0           py312haa95532_0  \n",
      "packaging                 23.2            py312haa95532_0  \n",
      "pandas                    2.2.2           py312h0158946_0  \n",
      "pandocfilters             1.5.0              pyhd3eb1b0_0  \n",
      "panel                     1.4.4           py312haa95532_0  \n",
      "param                     2.1.0           py312haa95532_0  \n",
      "paramiko                  2.8.1              pyhd3eb1b0_0  \n",
      "parsel                    1.8.1           py312haa95532_0  \n",
      "parso                     0.8.3              pyhd3eb1b0_0  \n",
      "partd                     1.4.1           py312haa95532_0  \n",
      "pathspec                  0.10.3          py312haa95532_0  \n",
      "patsy                     0.5.6           py312haa95532_0  \n",
      "pcre2                     10.42                h0ff8eda_1  \n",
      "pexpect                   4.8.0              pyhd3eb1b0_3  \n",
      "pickleshare               0.7.5           pyhd3eb1b0_1003  \n",
      "pillow                    10.3.0          py312h2bbff1b_0  \n",
      "pip                       24.0            py312haa95532_0  \n",
      "pkce                      1.0.3           py312haa95532_0  \n",
      "pkginfo                   1.10.0          py312haa95532_0  \n",
      "platformdirs              3.10.0          py312haa95532_0  \n",
      "plotly                    5.22.0          py312hfc267ef_0  \n",
      "pluggy                    1.0.0           py312haa95532_1  \n",
      "ply                       3.11            py312haa95532_1  \n",
      "powershell_shortcut       0.0.1                haa95532_4  \n",
      "prometheus_client         0.14.1          py312haa95532_0  \n",
      "prompt-toolkit            3.0.43          py312haa95532_0  \n",
      "prompt_toolkit            3.0.43               hd3eb1b0_0  \n",
      "protego                   0.1.16                     py_0  \n",
      "protobuf                  3.20.3          py312hd77b12b_0  \n",
      "psutil                    5.9.0           py312h2bbff1b_0  \n",
      "ptyprocess                0.7.0              pyhd3eb1b0_2  \n",
      "pure_eval                 0.2.2              pyhd3eb1b0_0  \n",
      "py-cpuinfo                9.0.0           py312haa95532_0  \n",
      "py-lief                   0.12.3          py312hd77b12b_0  \n",
      "pyarrow                   14.0.2          py312had8a6e9_0  \n",
      "pyasn1                    0.4.8              pyhd3eb1b0_0  \n",
      "pyasn1-modules            0.2.8                      py_0  \n",
      "pybind11-abi              5                    hd3eb1b0_0  \n",
      "pycodestyle               2.11.1          py312haa95532_0  \n",
      "pycosat                   0.6.6           py312h2bbff1b_1  \n",
      "pycparser                 2.21               pyhd3eb1b0_0  \n",
      "pyct                      0.5.0           py312haa95532_0  \n",
      "pycurl                    7.45.2          py312he2ea4bf_1  \n",
      "pydantic                  2.5.3           py312haa95532_0  \n",
      "pydantic-core             2.14.6          py312h062c2fa_0  \n",
      "pydeck                    0.8.0           py312haa95532_2  \n",
      "pydispatcher              2.0.5           py312haa95532_3  \n",
      "pydocstyle                6.3.0           py312haa95532_0  \n",
      "pyerfa                    2.0.1.4         py312h4b0e54e_0  \n",
      "pyflakes                  3.2.0           py312haa95532_0  \n",
      "pygments                  2.15.1          py312haa95532_1  \n",
      "pyjwt                     2.8.0           py312haa95532_0  \n",
      "pylint                    2.16.2          py312haa95532_0  \n",
      "pylint-venv               3.0.3           py312haa95532_0  \n",
      "pyls-spyder               0.4.0              pyhd3eb1b0_0  \n",
      "pynacl                    1.5.0           py312h8cc25b3_0  \n",
      "pyodbc                    5.0.1           py312hd77b12b_0  \n",
      "pyopenssl                 24.0.0          py312haa95532_0  \n",
      "pyparsing                 3.0.9           py312haa95532_0  \n",
      "pyqt                      5.15.10         py312hd77b12b_0  \n",
      "pyqt5-sip                 12.13.0         py312h2bbff1b_0  \n",
      "pyqtwebengine             5.15.10         py312hd77b12b_0  \n",
      "pysocks                   1.7.1           py312haa95532_0  \n",
      "pytables                  3.9.2           py312h2314d3b_0  \n",
      "pytest                    7.4.4           py312haa95532_0  \n",
      "python                    3.12.4               h14ffc60_1  \n",
      "python-dateutil           2.9.0post0      py312haa95532_2  \n",
      "python-dotenv             0.21.0          py312haa95532_0  \n",
      "python-fastjsonschema     2.16.2          py312haa95532_0  \n",
      "python-json-logger        2.0.7           py312haa95532_0  \n",
      "python-libarchive-c       2.9                pyhd3eb1b0_1  \n",
      "python-lmdb               1.4.1           py312hd77b12b_0  \n",
      "python-lsp-black          2.0.0           py312haa95532_0  \n",
      "python-lsp-jsonrpc        1.1.2              pyhd3eb1b0_0  \n",
      "python-lsp-server         1.10.0          py312haa95532_0  \n",
      "python-slugify            5.0.2              pyhd3eb1b0_0  \n",
      "python-snappy             0.6.1           py312hd77b12b_0  \n",
      "python-tzdata             2023.3             pyhd3eb1b0_0  \n",
      "pytoolconfig              1.2.6           py312haa95532_0  \n",
      "pytz                      2024.1          py312haa95532_0  \n",
      "pyviz_comms               3.0.2           py312haa95532_0  \n",
      "pywavelets                1.5.0           py312he558020_0  \n",
      "pywin32                   305             py312h2bbff1b_0  \n",
      "pywin32-ctypes            0.2.2           py312haa95532_0  \n",
      "pywinpty                  2.0.10          py312h5da7b33_0  \n",
      "pyyaml                    6.0.1           py312h2bbff1b_0  \n",
      "pyzmq                     25.1.2          py312hd77b12b_0  \n",
      "qdarkstyle                3.2.3              pyhd3eb1b0_0  \n",
      "qstylizer                 0.2.2           py312haa95532_0  \n",
      "qt-main                   5.15.2              h19c9488_10  \n",
      "qt-webengine              5.15.9               h5bd16bc_7  \n",
      "qtawesome                 1.2.2           py312haa95532_0  \n",
      "qtconsole                 5.5.1           py312haa95532_0  \n",
      "qtpy                      2.4.1           py312haa95532_0  \n",
      "queuelib                  1.6.2           py312haa95532_0  \n",
      "re2                       2022.04.01           hd77b12b_0  \n",
      "referencing               0.30.2          py312haa95532_0  \n",
      "regex                     2023.10.3       py312h2bbff1b_0  \n",
      "reproc                    14.2.4               hd77b12b_2  \n",
      "reproc-cpp                14.2.4               hd77b12b_2  \n",
      "requests                  2.32.2          py312haa95532_0  \n",
      "requests-file             1.5.1              pyhd3eb1b0_0  \n",
      "requests-toolbelt         1.0.0           py312haa95532_0  \n",
      "rfc3339-validator         0.1.4           py312haa95532_0  \n",
      "rfc3986-validator         0.1.1           py312haa95532_0  \n",
      "rich                      13.3.5          py312haa95532_1  \n",
      "rope                      1.12.0          py312haa95532_0  \n",
      "rpds-py                   0.10.6          py312h062c2fa_0  \n",
      "rtree                     1.0.1           py312h2eaa2aa_0  \n",
      "ruamel.yaml               0.17.21         py312h2bbff1b_0  \n",
      "ruamel_yaml               0.17.21         py312h2bbff1b_0  \n",
      "s3fs                      2024.3.1        py312haa95532_0  \n",
      "scikit-image              0.23.2          py312h0158946_0  \n",
      "scikit-learn              1.4.2           py312hc7c4135_1  \n",
      "scipy                     1.13.1          py312hbb039d4_0  \n",
      "scrapy                    2.11.1          py312haa95532_0  \n",
      "seaborn                   0.13.2          py312haa95532_0  \n",
      "semver                    3.0.2           py312haa95532_0  \n",
      "send2trash                1.8.2           py312haa95532_0  \n",
      "service_identity          18.1.0             pyhd3eb1b0_1  \n",
      "setuptools                69.5.1          py312haa95532_0  \n",
      "sip                       6.7.12          py312hd77b12b_0  \n",
      "six                       1.16.0             pyhd3eb1b0_1  \n",
      "smart_open                5.2.1           py312haa95532_0  \n",
      "smmap                     4.0.0              pyhd3eb1b0_0  \n",
      "snappy                    1.1.10               h6c2663c_1  \n",
      "sniffio                   1.3.0           py312haa95532_0  \n",
      "snowballstemmer           2.2.0              pyhd3eb1b0_0  \n",
      "sortedcontainers          2.4.0              pyhd3eb1b0_0  \n",
      "soupsieve                 2.5             py312haa95532_0  \n",
      "sphinx                    7.3.7           py312h827c3e9_0  \n",
      "sphinxcontrib-applehelp   1.0.2              pyhd3eb1b0_0  \n",
      "sphinxcontrib-devhelp     1.0.2              pyhd3eb1b0_0  \n",
      "sphinxcontrib-htmlhelp    2.0.0              pyhd3eb1b0_0  \n",
      "sphinxcontrib-jsmath      1.0.1              pyhd3eb1b0_0  \n",
      "sphinxcontrib-qthelp      1.0.3              pyhd3eb1b0_0  \n",
      "sphinxcontrib-serializinghtml 1.1.10          py312haa95532_0  \n",
      "spyder                    5.5.1           py312haa95532_0  \n",
      "spyder-kernels            2.5.0           py312haa95532_0  \n",
      "sqlalchemy                2.0.30          py312h827c3e9_0  \n",
      "sqlite                    3.45.3               h2bbff1b_0  \n",
      "stack_data                0.2.0              pyhd3eb1b0_0  \n",
      "statsmodels               0.14.2          py312h4b0e54e_0  \n",
      "streamlit                 1.32.0          py312haa95532_0  \n",
      "sympy                     1.12            py312haa95532_0  \n",
      "tabulate                  0.9.0           py312haa95532_0  \n",
      "tbb                       2021.8.0             h59b6b97_0  \n",
      "tblib                     1.7.0              pyhd3eb1b0_0  \n",
      "tenacity                  8.2.2           py312haa95532_1  \n",
      "terminado                 0.17.1          py312haa95532_0  \n",
      "text-unidecode            1.3                pyhd3eb1b0_0  \n",
      "textdistance              4.2.1              pyhd3eb1b0_0  \n",
      "threadpoolctl             2.2.0              pyh0d69192_0  \n",
      "three-merge               0.1.1              pyhd3eb1b0_0  \n",
      "tifffile                  2023.4.12       py312haa95532_0  \n",
      "tinycss2                  1.2.1           py312haa95532_0  \n",
      "tk                        8.6.14               h0416ee5_0  \n",
      "tldextract                3.2.0              pyhd3eb1b0_0  \n",
      "toml                      0.10.2             pyhd3eb1b0_0  \n",
      "tomli                     2.0.1           py312haa95532_1  \n",
      "tomlkit                   0.11.1          py312haa95532_0  \n",
      "toolz                     0.12.0          py312haa95532_0  \n",
      "tornado                   6.4.1           py312h827c3e9_0  \n",
      "tqdm                      4.66.4          py312hfc267ef_0  \n",
      "traitlets                 5.14.3          py312haa95532_0  \n",
      "truststore                0.8.0           py312haa95532_0  \n",
      "twisted                   23.10.0         py312haa95532_0  \n",
      "twisted-iocpsupport       1.0.2           py312h2bbff1b_0  \n",
      "typing-extensions         4.11.0          py312haa95532_0  \n",
      "typing_extensions         4.11.0          py312haa95532_0  \n",
      "tzdata                    2024a                h04d1e81_0  \n",
      "uc-micro-py               1.0.1           py312haa95532_0  \n",
      "ujson                     5.10.0          py312h5da7b33_0  \n",
      "unicodedata2              15.1.0          py312h2bbff1b_0  \n",
      "unidecode                 1.2.0              pyhd3eb1b0_0  \n",
      "urllib3                   2.2.2           py312haa95532_0  \n",
      "utf8proc                  2.6.1                h2bbff1b_1  \n",
      "vc                        14.2                 h2eaa2aa_1  \n",
      "vs2015_runtime            14.29.30133          h43f2093_3  \n",
      "w3lib                     2.1.2           py312haa95532_0  \n",
      "watchdog                  4.0.1           py312haa95532_0  \n",
      "wcwidth                   0.2.5              pyhd3eb1b0_0  \n",
      "webencodings              0.5.1           py312haa95532_2  \n",
      "websocket-client          1.8.0           py312haa95532_0  \n",
      "werkzeug                  3.0.3           py312haa95532_0  \n",
      "whatthepatch              1.0.2           py312haa95532_0  \n",
      "wheel                     0.43.0          py312haa95532_0  \n",
      "widgetsnbextension        3.6.6           py312haa95532_0  \n",
      "win_inet_pton             1.1.0           py312haa95532_0  \n",
      "winpty                    0.4.3                         4  \n",
      "wrapt                     1.14.1          py312h2bbff1b_0  \n",
      "xarray                    2023.6.0        py312haa95532_0  \n",
      "xlwings                   0.31.4          py312haa95532_0  \n",
      "xyzservices               2022.9.0        py312haa95532_1  \n",
      "xz                        5.4.6                h8cc25b3_1  \n",
      "yaml                      0.2.5                he774522_0  \n",
      "yaml-cpp                  0.8.0                hd77b12b_1  \n",
      "yapf                      0.40.2          py312haa95532_0  \n",
      "yarl                      1.9.3           py312h2bbff1b_0  \n",
      "zeromq                    4.3.5                hd77b12b_0  \n",
      "zfp                       1.0.0                hd77b12b_0  \n",
      "zict                      3.0.0           py312haa95532_0  \n",
      "zipp                      3.17.0          py312haa95532_0  \n",
      "zlib                      1.2.13               h8cc25b3_1  \n",
      "zlib-ng                   2.0.7                h2bbff1b_0  \n",
      "zope                      1.0             py312haa95532_1  \n",
      "zope.interface            5.4.0           py312h2bbff1b_0  \n",
      "zstandard                 0.22.0          py312h3469f8a_0  \n",
      "zstd                      1.5.5                hd43e919_2  \n"
     ]
    }
   ],
   "source": [
    "!conda list"
   ]
  },
  {
   "cell_type": "code",
   "execution_count": 6,
   "id": "8b92b736-97ab-487f-9c09-2651bf894e35",
   "metadata": {},
   "outputs": [],
   "source": [
    "import numpy as np\n",
    "import pandas as pd\n",
    "import matplotlib.pyplot as plt\n",
    "import seaborn as nsn"
   ]
  },
  {
   "cell_type": "markdown",
   "id": "0cf6f2c9-c5ca-4ece-90b4-ebffb2ac23e6",
   "metadata": {},
   "source": [
    "# Task 1: Lists, Dictionaries, Tuples\n",
    "- 1.1.  Create a list: nums = [3, 5, 7, 8, 12], make another list named ‘cubes’ and append the cubes of the given list ‘nums’ \r\n",
    "in this list and print it. "
   ]
  },
  {
   "cell_type": "code",
   "execution_count": 10,
   "id": "d3cd3cd8-9bc3-4e79-8d80-938b7529ac09",
   "metadata": {},
   "outputs": [
    {
     "name": "stdout",
     "output_type": "stream",
     "text": [
      "[3, 5, 7, 8, 12, 27, 125, 343, 512, 1728]\n"
     ]
    }
   ],
   "source": [
    "# Define a list of numbers\n",
    "nums = [3, 5, 7, 8, 12]\n",
    "\n",
    "# Initialize an empty list to store the cubes of the numbers\n",
    "cubes = []\n",
    "\n",
    "# Loop through each number in the nums list\n",
    "for num in nums:\n",
    "    # Calculate the cube of the current number and append it to the cubes list\n",
    "    cubes.append(num ** 3)\n",
    "\n",
    "# Concatenate the original nums list with the cubes list\n",
    "nums = nums + cubes\n",
    "\n",
    "# Print the combined list which now contains both the original numbers and their cubes\n",
    "print(nums)"
   ]
  },
  {
   "cell_type": "markdown",
   "id": "96510b6c-bbaa-4a29-9ffd-18818e642b21",
   "metadata": {},
   "source": [
    "1.2.  Create an empty dictionary: dict = {}, add the following data to the dictionary: ‘parrot’: 2, ‘goat’: 4, ‘spider’: 8, ‘crab’: \n",
    "10 as key value pairs. "
   ]
  },
  {
   "cell_type": "code",
   "execution_count": 14,
   "id": "b77142ff-29f6-4ff4-9114-0345414ab812",
   "metadata": {},
   "outputs": [
    {
     "name": "stdout",
     "output_type": "stream",
     "text": [
      "{'parrot': 2, 'goat': 4, 'spider': 8, 'crab': 10}\n"
     ]
    }
   ],
   "source": [
    "# Create an empty dictionary\n",
    "dict = {}\n",
    "\n",
    "# Add the specified key-value pairs to the dictionary\n",
    "dict['parrot'] = 2\n",
    "dict['goat'] = 4\n",
    "dict['spider'] = 8\n",
    "dict['crab'] = 10\n",
    "\n",
    "# Print the resulting dictionary\n",
    "print(dict)"
   ]
  },
  {
   "cell_type": "markdown",
   "id": "e9d5b98c-ec18-4bf7-b96d-7285f517e1b4",
   "metadata": {},
   "source": [
    "1.3.  Use the ‘items’ method to loop over the dictionary (dict) and print the animals and their corresponding legs. Sum \n",
    "the legs of each animal, and print the total at the end. "
   ]
  },
  {
   "cell_type": "code",
   "execution_count": 17,
   "id": "698b51b4-df22-414d-bc26-8112338ea615",
   "metadata": {},
   "outputs": [
    {
     "name": "stdout",
     "output_type": "stream",
     "text": [
      "parrot: 2 legs\n",
      "goat: 4 legs\n",
      "spider: 8 legs\n",
      "crab: 10 legs\n",
      "Total legs: 24\n"
     ]
    }
   ],
   "source": [
    "# Initialize a variable to keep the sum of legs\n",
    "total_legs = 0\n",
    "\n",
    "# Use the items() method to loop over the dictionary\n",
    "for animal, legs in dict.items():\n",
    "    # Print the animal and its corresponding number of legs\n",
    "    print(f\"{animal}: {legs} legs\")\n",
    "    \n",
    "    # Add the number of legs to the total\n",
    "    total_legs += legs\n",
    "\n",
    "# Print the total number of legs\n",
    "print(f\"Total legs: {total_legs}\")"
   ]
  },
  {
   "cell_type": "markdown",
   "id": "a4f514dc-1ad5-4dc7-82e2-a1a2f6d36b1f",
   "metadata": {},
   "source": [
    "1.4.  Create a tuple: A = (3, 9, 4, [5, 6]), change the value in the list from ‘5’ to ‘8’. "
   ]
  },
  {
   "cell_type": "code",
   "execution_count": 20,
   "id": "a8f4a9e4-2d51-4edd-ab95-b7795624128a",
   "metadata": {},
   "outputs": [
    {
     "name": "stdout",
     "output_type": "stream",
     "text": [
      "(3, 9, 4, [8, 6])\n"
     ]
    }
   ],
   "source": [
    "# Create the tuple with a list inside\n",
    "A = (3, 9, 4, [5, 6])\n",
    "\n",
    "# Access the list inside the tuple and change the value 5 to 8\n",
    "A[3][0] = 8\n",
    "\n",
    "# Print the modified tuple\n",
    "print(A)"
   ]
  },
  {
   "cell_type": "markdown",
   "id": "d887eb00-cc66-44ab-a1fc-0dc9390b5c85",
   "metadata": {},
   "source": [
    "1.5.  Delete the tuple A. "
   ]
  },
  {
   "cell_type": "code",
   "execution_count": 23,
   "id": "13c3a92e-ac27-4e85-a05f-be8ab1b4f4a0",
   "metadata": {},
   "outputs": [],
   "source": [
    "# Delete the tuple\n",
    "del A"
   ]
  },
  {
   "cell_type": "markdown",
   "id": "08ae95ba-ff42-4929-bb43-ab38a1d23c6a",
   "metadata": {},
   "source": [
    "1.6.  Create another tuple: B = (‘a’, ‘p’, ‘p’, ‘l’, ‘e’), print the number of occurrences of ‘p’ in the tuple. "
   ]
  },
  {
   "cell_type": "code",
   "execution_count": 26,
   "id": "a9a8d871-4f8d-403e-ae36-fea501f1ce3b",
   "metadata": {},
   "outputs": [
    {
     "name": "stdout",
     "output_type": "stream",
     "text": [
      "2\n"
     ]
    }
   ],
   "source": [
    "# Create the tuple\n",
    "B = ('a', 'p', 'p', 'l', 'e')\n",
    "\n",
    "# Count the number of occurrences of 'p' in the tuple\n",
    "count_p = B.count('p')\n",
    "\n",
    "# Print the count\n",
    "print(count_p)"
   ]
  },
  {
   "cell_type": "markdown",
   "id": "f7b9bea1-09d4-48ea-b123-dc760f9cedf6",
   "metadata": {},
   "source": [
    "1.7.  Print the index of ‘l’ in the tuple."
   ]
  },
  {
   "cell_type": "code",
   "execution_count": 29,
   "id": "4c0634d4-1b0e-4e9f-9ec7-4f4e148d58c4",
   "metadata": {},
   "outputs": [
    {
     "name": "stdout",
     "output_type": "stream",
     "text": [
      "3\n"
     ]
    }
   ],
   "source": [
    "# Find the index of 'l' in the tuple\n",
    "index_l = B.index('l')\n",
    "\n",
    "# Print the index\n",
    "print(index_l)"
   ]
  },
  {
   "cell_type": "markdown",
   "id": "573c656e-f42f-4d9c-ad76-d5d9bb74a653",
   "metadata": {},
   "source": [
    "# Task 2: Numpy \n",
    "Use built-in functions of numpy library to complete this task. \n",
    "List of functions available here (https://numpy.org/doc/1.19/genindex.html)"
   ]
  },
  {
   "cell_type": "code",
   "execution_count": 40,
   "id": "39639357-d9b6-41da-95bb-25a230fb863c",
   "metadata": {},
   "outputs": [],
   "source": [
    "A = [[1, 2, 3, 4], \n",
    "     [5, 6, 7, 8], \n",
    "     [9, 10, 11, 12]]\n",
    "z = np.array([1,0,1])"
   ]
  },
  {
   "cell_type": "markdown",
   "id": "5b5a8da1-6344-42af-96ac-046ef02eaf6d",
   "metadata": {},
   "source": [
    "2.1  Convert matrix A into numpy array "
   ]
  },
  {
   "cell_type": "code",
   "execution_count": 43,
   "id": "c09aa778-6c54-40e4-adc5-9f1270955e46",
   "metadata": {},
   "outputs": [
    {
     "data": {
      "text/plain": [
       "array([[ 1,  2,  3,  4],\n",
       "       [ 5,  6,  7,  8],\n",
       "       [ 9, 10, 11, 12]])"
      ]
     },
     "execution_count": 43,
     "metadata": {},
     "output_type": "execute_result"
    }
   ],
   "source": [
    "A = np.array(A)\n",
    "A"
   ]
  },
  {
   "cell_type": "markdown",
   "id": "f72298d8-9f3a-4dcd-894f-362884a086c5",
   "metadata": {},
   "source": [
    "2.2  Use slicing to pull out the subarray consisting of the first 2 rows and columns 1 and 2. Store it in b which is a numpy \n",
    "array of shape (2, 2). "
   ]
  },
  {
   "cell_type": "markdown",
   "id": "2ebe7787-084c-4ad0-a5ee-de7b3019e7d6",
   "metadata": {},
   "source": [
    "2.3  Create an empty matrix ‘C’ with the same shape as ‘A’. "
   ]
  },
  {
   "cell_type": "code",
   "execution_count": 46,
   "id": "1c33bb37-c42d-48c8-841d-add3b9fb461d",
   "metadata": {},
   "outputs": [
    {
     "name": "stdout",
     "output_type": "stream",
     "text": [
      "[[2 3]\n",
      " [6 7]]\n"
     ]
    }
   ],
   "source": [
    "# Use slicing to extract the subarray of the first 2 rows and columns 1 and 2\n",
    "b = A[:2, 1:3]\n",
    "\n",
    "# Print the subarray\n",
    "print(b)"
   ]
  },
  {
   "cell_type": "markdown",
   "id": "4acdd847-4fdf-475e-9f8d-21811b450b73",
   "metadata": {},
   "source": [
    "2.3  Create an empty matrix ‘C’ with the same shape as ‘A’. "
   ]
  },
  {
   "cell_type": "code",
   "execution_count": 48,
   "id": "4a633401-66b5-436a-b775-efe8fe824dc0",
   "metadata": {},
   "outputs": [
    {
     "name": "stdout",
     "output_type": "stream",
     "text": [
      "[[1.01855798e-312 1.10343781e-312 1.01855798e-312 9.54898106e-313]\n",
      " [1.08221785e-312 1.03977794e-312 1.23075756e-312 1.16709769e-312]\n",
      " [1.01855798e-312 9.76118064e-313 1.20953760e-312 1.90979621e-312]]\n"
     ]
    }
   ],
   "source": [
    "# Create an empty matrix C with the same shape as A\n",
    "C = np.empty(A.shape)\n",
    "\n",
    "# Print the empty matrix C\n",
    "print(C)"
   ]
  },
  {
   "cell_type": "markdown",
   "id": "992f9625-3a13-4731-9095-832a946c319c",
   "metadata": {},
   "source": [
    "2.4  Add the vector z to each column of the matrix ‘A’ with an explicit loop and store it in ‘C’. "
   ]
  },
  {
   "cell_type": "code",
   "execution_count": 54,
   "id": "0d248b6a-0613-4c72-b00e-2fd4405e0cab",
   "metadata": {},
   "outputs": [
    {
     "name": "stdout",
     "output_type": "stream",
     "text": [
      "[[ 2.  3.  4.  5.]\n",
      " [ 5.  6.  7.  8.]\n",
      " [10. 11. 12. 13.]]\n"
     ]
    }
   ],
   "source": [
    "# Add the vector z to each column of A using an explicit loop\n",
    "for col in range(A.shape[1]):\n",
    "    C[:, col] = A[:, col] + z\n",
    "\n",
    "# Print the resulting matrix C\n",
    "print(C)"
   ]
  },
  {
   "cell_type": "markdown",
   "id": "9c4069bc-a410-4e6b-9c8f-9830cfa1ddfc",
   "metadata": {},
   "source": [
    "Create the following"
   ]
  },
  {
   "cell_type": "code",
   "execution_count": 62,
   "id": "621ed032-2a0d-4453-8129-ec632765844b",
   "metadata": {},
   "outputs": [],
   "source": [
    "X = np.array([[1,2],[3,4]]) \n",
    "Y = np.array([[5,6],[7,8]]) \n",
    "v = np.array([9,10]) "
   ]
  },
  {
   "cell_type": "markdown",
   "id": "ae7af5d3-e6ac-4bfb-98d1-3caf066e80cf",
   "metadata": {},
   "source": [
    "2.5  Add and print the matrices X and Y."
   ]
  },
  {
   "cell_type": "code",
   "execution_count": 65,
   "id": "42fceffa-4f06-4a98-ae21-70777b702908",
   "metadata": {},
   "outputs": [
    {
     "name": "stdout",
     "output_type": "stream",
     "text": [
      "Addition of X and Y:\n",
      "[[ 6  8]\n",
      " [10 12]]\n"
     ]
    }
   ],
   "source": [
    "# Add the matrices X and Y\n",
    "addition = X + Y\n",
    "\n",
    "# Print the result\n",
    "print(\"Addition of X and Y:\")\n",
    "print(addition)"
   ]
  },
  {
   "cell_type": "markdown",
   "id": "eb76e501-6e7c-47e0-9902-c41f581dddae",
   "metadata": {},
   "source": [
    "2.6  Multiply and print the matrices X and Y. "
   ]
  },
  {
   "cell_type": "code",
   "execution_count": 68,
   "id": "6617416a-565c-468b-b62b-49d6f78e7203",
   "metadata": {},
   "outputs": [
    {
     "name": "stdout",
     "output_type": "stream",
     "text": [
      "\n",
      "Multiplication of X and Y:\n",
      "[[19 22]\n",
      " [43 50]]\n"
     ]
    }
   ],
   "source": [
    "# Multiply the matrices X and Y\n",
    "multiplication = np.dot(X, Y)\n",
    "\n",
    "# Print the result\n",
    "print(\"\\nMultiplication of X and Y:\")\n",
    "print(multiplication)"
   ]
  },
  {
   "cell_type": "markdown",
   "id": "b2b981b4-be9f-4855-9283-1541ff8240c2",
   "metadata": {},
   "source": [
    "2.7  Compute and print the element wise square root of matrix Y."
   ]
  },
  {
   "cell_type": "code",
   "execution_count": 71,
   "id": "52504f18-8ac7-4b9e-bb03-1099e865850f",
   "metadata": {},
   "outputs": [
    {
     "name": "stdout",
     "output_type": "stream",
     "text": [
      "\n",
      "Element-wise square root of Y:\n",
      "[[2.23606798 2.44948974]\n",
      " [2.64575131 2.82842712]]\n"
     ]
    }
   ],
   "source": [
    "# Compute the element-wise square root of matrix Y\n",
    "sqrt_Y = np.sqrt(Y)\n",
    "\n",
    "# Print the result\n",
    "print(\"\\nElement-wise square root of Y:\")\n",
    "print(sqrt_Y)"
   ]
  },
  {
   "cell_type": "markdown",
   "id": "91ee2823-6dd3-4223-8e79-5069e2887896",
   "metadata": {},
   "source": [
    "2.8  Compute and print the dot product of the matrix X and vector v. "
   ]
  },
  {
   "cell_type": "code",
   "execution_count": 74,
   "id": "1804f2fc-c385-487f-a845-c407c850d0a4",
   "metadata": {},
   "outputs": [
    {
     "name": "stdout",
     "output_type": "stream",
     "text": [
      "\n",
      "Dot product of X and v:\n",
      "[29 67]\n"
     ]
    }
   ],
   "source": [
    "# Compute the dot product of matrix X and vector v\n",
    "dot_product = np.dot(X, v)\n",
    "\n",
    "# Print the result\n",
    "print(\"\\nDot product of X and v:\")\n",
    "print(dot_product)"
   ]
  },
  {
   "cell_type": "markdown",
   "id": "5dc89996-1db8-498c-8347-c311ab5c3218",
   "metadata": {},
   "source": [
    "2.9  Compute and print the sum of each column of X. "
   ]
  },
  {
   "cell_type": "code",
   "execution_count": 77,
   "id": "015895fd-5e06-4a29-bf43-75997627bf3e",
   "metadata": {},
   "outputs": [
    {
     "name": "stdout",
     "output_type": "stream",
     "text": [
      "\n",
      "Sum of each column of X:\n",
      "[4 6]\n"
     ]
    }
   ],
   "source": [
    "# Compute the sum of each column of X\n",
    "column_sum = np.sum(X, axis=0)\n",
    "\n",
    "# Print the result\n",
    "print(\"\\nSum of each column of X:\")\n",
    "print(column_sum)"
   ]
  },
  {
   "cell_type": "markdown",
   "id": "3609c901-4cae-47f7-92f9-88ef1f39d5da",
   "metadata": {},
   "source": [
    "# Task 3: Functions and Loops "
   ]
  },
  {
   "cell_type": "markdown",
   "id": "c08fb924-6778-4d82-918d-d24fcaf46f0b",
   "metadata": {},
   "source": [
    "3.1  Create a function ‘Compute’ that takes two arguments, distance and time, and use it to calculate velocity. "
   ]
  },
  {
   "cell_type": "code",
   "execution_count": 81,
   "id": "c875f051-1711-4cf9-ae58-385986930fa8",
   "metadata": {},
   "outputs": [
    {
     "name": "stdout",
     "output_type": "stream",
     "text": [
      "Velocity: 5.0 m/s\n"
     ]
    }
   ],
   "source": [
    "# Define the function Compute\n",
    "def Compute(distance, time):\n",
    "    # Calculate velocity\n",
    "    velocity = distance / time\n",
    "    return velocity\n",
    "\n",
    "# Example usage of the function\n",
    "distance = 100  # Example distance in meters\n",
    "time = 20       # Example time in seconds\n",
    "\n",
    "# Calculate velocity using the Compute function\n",
    "velocity = Compute(distance, time)\n",
    "\n",
    "# Print the result\n",
    "print(f\"Velocity: {velocity} m/s\")\n"
   ]
  },
  {
   "cell_type": "markdown",
   "id": "ea08940e-e8e3-4d3d-952f-5c066d77daa7",
   "metadata": {},
   "source": [
    "3.2 Make a list named ‘even_num’ that contains all even numbers up till 12. Create a function ‘mult’ that takes the list \n",
    "‘even_num’  as an argument and calculates the products of all entries using a for loop. "
   ]
  },
  {
   "cell_type": "code",
   "execution_count": 84,
   "id": "e033227e-d061-4acd-9a71-60551eb6983b",
   "metadata": {},
   "outputs": [
    {
     "name": "stdout",
     "output_type": "stream",
     "text": [
      "The product of all entries in even_num is: 46080\n"
     ]
    }
   ],
   "source": [
    "# Create a list named even_num that contains all even numbers up to 12\n",
    "even_num = [2, 4, 6, 8, 10, 12]\n",
    "\n",
    "# Define the function mult that calculates the product of all entries in the list\n",
    "def mult(numbers):\n",
    "    product = 1  # Initialize the product variable\n",
    "    for num in numbers:  # Loop through each number in the list\n",
    "        product *= num  # Multiply each number with the current product\n",
    "    return product\n",
    "\n",
    "# Calculate the product of all entries in the list even_num\n",
    "result = mult(even_num)\n",
    "\n",
    "# Print the result\n",
    "print(f\"The product of all entries in even_num is: {result}\")\n"
   ]
  },
  {
   "cell_type": "markdown",
   "id": "a2912cfb-29a4-4935-8b14-096029c7989a",
   "metadata": {},
   "source": [
    "# Task 4: Pandas \n",
    "Create a Pandas dataframe named ‘pd’ that contains 5 rows and 4 columns, similar to the one given below:"
   ]
  },
  {
   "cell_type": "code",
   "execution_count": 90,
   "id": "ef6177b8-c8db-4db3-9879-e4098a492657",
   "metadata": {},
   "outputs": [],
   "source": [
    "# Creating the DataFrame\n",
    "data = {\n",
    "    'C1': [1, 2, 3, 5, 5],\n",
    "    'C2': [6, 7, 5, 4, 8],\n",
    "    'C3': [7, 9, 8, 6, 5],\n",
    "    'C4': [7, 5, 2, 8, 8]\n",
    "}\n",
    "\n",
    "# Create the dataframe named 'pd'\n",
    "df = pd.DataFrame(data)"
   ]
  },
  {
   "cell_type": "markdown",
   "id": "5d5dbe90-909a-4024-a529-e4b1d89d8fed",
   "metadata": {},
   "source": [
    "4.1  Print only the first two rows of the dataframe. "
   ]
  },
  {
   "cell_type": "code",
   "execution_count": 92,
   "id": "5c0cab10-cbe2-4cea-900c-c9a1733ed42d",
   "metadata": {},
   "outputs": [
    {
     "name": "stdout",
     "output_type": "stream",
     "text": [
      "   C1  C2  C3  C4\n",
      "0   1   6   7   7\n",
      "1   2   7   9   5\n",
      "2   3   5   8   2\n",
      "3   5   4   6   8\n",
      "4   5   8   5   8\n"
     ]
    }
   ],
   "source": [
    "# Display the data frame\n",
    "print(df)"
   ]
  },
  {
   "cell_type": "markdown",
   "id": "8c44080c-7117-468d-a814-4f33c6c12208",
   "metadata": {},
   "source": [
    "4.2  Print the second column. "
   ]
  },
  {
   "cell_type": "code",
   "execution_count": 95,
   "id": "f4afeb7b-15f7-4a34-8086-4d7d05c39b46",
   "metadata": {},
   "outputs": [
    {
     "name": "stdout",
     "output_type": "stream",
     "text": [
      "0    6\n",
      "1    7\n",
      "2    5\n",
      "3    4\n",
      "4    8\n",
      "Name: C2, dtype: int64\n"
     ]
    }
   ],
   "source": [
    "# Print the second column 'C2'\n",
    "print(df['C2'])"
   ]
  },
  {
   "cell_type": "markdown",
   "id": "43a735da-de2f-48c7-9806-b3011f132267",
   "metadata": {},
   "source": [
    "4.3  Change the name of the third column from ‘C3’ to ‘B3’. "
   ]
  },
  {
   "cell_type": "code",
   "execution_count": 98,
   "id": "9fd9385d-4a2d-4c17-86b9-e9abe6a50924",
   "metadata": {},
   "outputs": [
    {
     "name": "stdout",
     "output_type": "stream",
     "text": [
      "   C1  C2  B3  C4\n",
      "0   1   6   7   7\n",
      "1   2   7   9   5\n",
      "2   3   5   8   2\n",
      "3   5   4   6   8\n",
      "4   5   8   5   8\n"
     ]
    }
   ],
   "source": [
    "# Rename the third column from 'C3' to 'B3'\n",
    "df = df.rename(columns={'C3': 'B3'})\n",
    "\n",
    "# Display the updated dataframe\n",
    "print(df)"
   ]
  },
  {
   "cell_type": "markdown",
   "id": "6f08b807-8d1b-4c4a-a20e-d2d2fb21187d",
   "metadata": {},
   "source": [
    "4.4  Add a new column to the dataframe and name it ‘Sum’. "
   ]
  },
  {
   "cell_type": "code",
   "execution_count": 101,
   "id": "9c781fdc-38cd-40fe-95e7-f04189c3ea9d",
   "metadata": {},
   "outputs": [
    {
     "name": "stdout",
     "output_type": "stream",
     "text": [
      "   C1  C2  B3  C4  Sum\n",
      "0   1   6   7   7   21\n",
      "1   2   7   9   5   23\n",
      "2   3   5   8   2   18\n",
      "3   5   4   6   8   23\n",
      "4   5   8   5   8   26\n"
     ]
    }
   ],
   "source": [
    "# Add a new column 'Sum' which is the sum of each row\n",
    "df['Sum'] = df.sum(axis=1)\n",
    "\n",
    "# Display the updated dataframe\n",
    "print(df)\n"
   ]
  },
  {
   "cell_type": "markdown",
   "id": "601d79fc-d2a2-402d-b746-68beac7f6939",
   "metadata": {},
   "source": [
    "4.5  Sum the entries of each row and add the result in the column ‘Sum’. "
   ]
  },
  {
   "cell_type": "code",
   "execution_count": 103,
   "id": "b3654745-40d5-4ac0-8981-a76b060092ed",
   "metadata": {},
   "outputs": [
    {
     "name": "stdout",
     "output_type": "stream",
     "text": [
      "   C1  C2  B3  C4  Sum\n",
      "0   1   6   7   7   42\n",
      "1   2   7   9   5   46\n",
      "2   3   5   8   2   36\n",
      "3   5   4   6   8   46\n",
      "4   5   8   5   8   52\n"
     ]
    }
   ],
   "source": [
    "# Add a new column 'Sum' that contains the sum of each row's entries\n",
    "df['Sum'] = df.sum(axis=1)\n",
    "\n",
    "# Display the updated dataframe\n",
    "print(df)"
   ]
  },
  {
   "cell_type": "markdown",
   "id": "f9318fbe-f9e4-42ef-aec1-5f27325e4352",
   "metadata": {},
   "source": [
    "4.6 Read CSV file named ‘hello_sample.csv’ (the file is available in the class Google Drive shared folder) into a Pandas \n",
    "dataframe. "
   ]
  },
  {
   "cell_type": "code",
   "execution_count": 111,
   "id": "d9d19217-9cd0-450f-bc76-c340b4155ff2",
   "metadata": {},
   "outputs": [],
   "source": [
    "import pandas as pd\n",
    "\n",
    "# Reading the CSV file into a DataFrame\n",
    "df_csv = pd.read_csv('hello_sample.csv')\n"
   ]
  },
  {
   "cell_type": "markdown",
   "id": "77c2635d-35e4-4de7-a178-f43417a3aa15",
   "metadata": {},
   "source": [
    "4.7  Print complete dataframe."
   ]
  },
  {
   "cell_type": "code",
   "execution_count": 114,
   "id": "07bcfae2-d275-438c-b34e-49b8db86172c",
   "metadata": {},
   "outputs": [
    {
     "name": "stdout",
     "output_type": "stream",
     "text": [
      "    Gender  F_Color     B_Month  Weight\n",
      "0     Male    Black       March      77\n",
      "1     Male      Red       March      72\n",
      "2     Male    Black     October      53\n",
      "3   Female     Blue    February      63\n",
      "4     Male    black    October       80\n",
      "5   Female    Black    december      97\n",
      "6     Male   Orange      August      60\n",
      "7   Female      Red   September      59\n",
      "8     Male     Blue        July      60\n",
      "9     Male     Blue         May      58\n",
      "10  Female      Red    October       60\n",
      "11    Male    Black   September      65\n",
      "12    Male    Green    December      85\n",
      "13    Male    Black       April      72\n",
      "14    Male    Green    January       90\n",
      "15    Male   Yellow   November       90\n",
      "16    Male    Black      August      54\n",
      "17    Male    Black     January      82\n",
      "18    Male  Mustard   December       60\n",
      "19  Female    Black    October       76\n",
      "20    Male    Black   February       67\n",
      "21    Male   Yellow       April      74\n",
      "22    Male      Red  September       66\n"
     ]
    }
   ],
   "source": [
    "# Display the dataframe\n",
    "print(df_csv)"
   ]
  },
  {
   "cell_type": "markdown",
   "id": "f709b1e3-3b6b-4a9e-9045-cef15c1ff58a",
   "metadata": {},
   "source": [
    "4.8  Print only bottom 2 records of the dataframe. "
   ]
  },
  {
   "cell_type": "code",
   "execution_count": 117,
   "id": "3e824fe5-9bbb-43ba-9b3f-cc953b2ab174",
   "metadata": {},
   "outputs": [
    {
     "name": "stdout",
     "output_type": "stream",
     "text": [
      "   C1  C2  B3  C4  Sum\n",
      "3   5   4   6   8   46\n",
      "4   5   8   5   8   52\n"
     ]
    }
   ],
   "source": [
    "# Print the bottom 2 records of the DataFrame\n",
    "print(df.tail(2))"
   ]
  },
  {
   "cell_type": "markdown",
   "id": "9aa39772-9fc5-4a72-9f91-4a966062c514",
   "metadata": {},
   "source": [
    "4.9  Print information about the dataframe. "
   ]
  },
  {
   "cell_type": "code",
   "execution_count": 120,
   "id": "169f8bff-edd5-4a64-a220-5d3153052b6b",
   "metadata": {},
   "outputs": [
    {
     "name": "stdout",
     "output_type": "stream",
     "text": [
      "<class 'pandas.core.frame.DataFrame'>\n",
      "RangeIndex: 5 entries, 0 to 4\n",
      "Data columns (total 5 columns):\n",
      " #   Column  Non-Null Count  Dtype\n",
      "---  ------  --------------  -----\n",
      " 0   C1      5 non-null      int64\n",
      " 1   C2      5 non-null      int64\n",
      " 2   B3      5 non-null      int64\n",
      " 3   C4      5 non-null      int64\n",
      " 4   Sum     5 non-null      int64\n",
      "dtypes: int64(5)\n",
      "memory usage: 332.0 bytes\n"
     ]
    }
   ],
   "source": [
    "# Print information about the DataFrame\n",
    "df.info()"
   ]
  },
  {
   "cell_type": "markdown",
   "id": "fe0d7963-8787-4980-9430-1f0d32106c13",
   "metadata": {},
   "source": [
    "4.10  Print shape (rows x columns) of the dataframe. "
   ]
  },
  {
   "cell_type": "code",
   "execution_count": 123,
   "id": "4a13e849-1c2f-4a9f-9832-1cc2dd6ab262",
   "metadata": {},
   "outputs": [
    {
     "name": "stdout",
     "output_type": "stream",
     "text": [
      "<class 'pandas.core.frame.DataFrame'>\n",
      "RangeIndex: 5 entries, 0 to 4\n",
      "Data columns (total 5 columns):\n",
      " #   Column  Non-Null Count  Dtype\n",
      "---  ------  --------------  -----\n",
      " 0   C1      5 non-null      int64\n",
      " 1   C2      5 non-null      int64\n",
      " 2   B3      5 non-null      int64\n",
      " 3   C4      5 non-null      int64\n",
      " 4   Sum     5 non-null      int64\n",
      "dtypes: int64(5)\n",
      "memory usage: 332.0 bytes\n"
     ]
    }
   ],
   "source": [
    "# Print information about the DataFrame\n",
    "df.info()"
   ]
  },
  {
   "cell_type": "markdown",
   "id": "ddf3f499-dafa-4242-9a54-88c79ce04686",
   "metadata": {},
   "source": [
    "4.11  Sort the data of the dataFrame using column ‘Weight’."
   ]
  },
  {
   "cell_type": "code",
   "execution_count": 129,
   "id": "b439116d-fe62-4792-bda6-f02813f537eb",
   "metadata": {},
   "outputs": [
    {
     "name": "stdout",
     "output_type": "stream",
     "text": [
      "   C1  C2  B3  C4  Sum\n",
      "3   5   4   6   8   46\n",
      "2   3   5   8   2   36\n",
      "0   1   6   7   7   42\n",
      "1   2   7   9   5   46\n",
      "4   5   8   5   8   52\n"
     ]
    }
   ],
   "source": [
    "# Sort the DataFrame by the 'Weight' column\n",
    "df_sorted = df.sort_values(by='C2')\n",
    "\n",
    "# Display the sorted DataFrame\n",
    "print(df_sorted)"
   ]
  },
  {
   "cell_type": "markdown",
   "id": "adba7aca-fc16-44d1-bc4f-ee35ec5d4f15",
   "metadata": {},
   "source": [
    "4.12  Use isnull() and dropna() methods of the Pandas dataframe and see if they produce any changes."
   ]
  },
  {
   "cell_type": "code",
   "execution_count": 134,
   "id": "eff5c6e6-07bb-4dc4-9fa7-f5fe508e30ac",
   "metadata": {},
   "outputs": [
    {
     "name": "stdout",
     "output_type": "stream",
     "text": [
      "   C1  C2  B3  C4  Sum\n",
      "0   1   6   7   7   42\n",
      "1   2   7   9   5   46\n",
      "2   3   5   8   2   36\n",
      "3   5   4   6   8   46\n",
      "4   5   8   5   8   52\n"
     ]
    }
   ],
   "source": [
    "# Drop rows with any missing values\n",
    "df_cleaned = df.dropna()\n",
    "\n",
    "# Display the DataFrame after dropping rows with null values\n",
    "print(df_cleaned)"
   ]
  },
  {
   "cell_type": "code",
   "execution_count": null,
   "id": "31c5a2de-6140-4505-83ac-fb2f4d5888bf",
   "metadata": {},
   "outputs": [],
   "source": []
  }
 ],
 "metadata": {
  "kernelspec": {
   "display_name": "Python 3 (ipykernel)",
   "language": "python",
   "name": "python3"
  },
  "language_info": {
   "codemirror_mode": {
    "name": "ipython",
    "version": 3
   },
   "file_extension": ".py",
   "mimetype": "text/x-python",
   "name": "python",
   "nbconvert_exporter": "python",
   "pygments_lexer": "ipython3",
   "version": "3.12.4"
  }
 },
 "nbformat": 4,
 "nbformat_minor": 5
}
