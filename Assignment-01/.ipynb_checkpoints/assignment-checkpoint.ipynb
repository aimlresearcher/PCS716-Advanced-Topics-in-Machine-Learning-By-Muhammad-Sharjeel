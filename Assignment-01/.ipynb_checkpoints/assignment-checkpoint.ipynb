{
 "cells": [
  {
   "cell_type": "code",
   "execution_count": 30,
   "metadata": {},
   "outputs": [
    {
     "name": "stdout",
     "output_type": "stream",
     "text": [
      "List of cubes: [27, 125, 343, 512, 1728]\n"
     ]
    }
   ],
   "source": [
    "# Task 1.1: Create a list 'nums' and append cubes of the list to 'cubes'\n",
    "nums = [3, 5, 7, 8, 12]  # Given list\n",
    "cubes = []  # Empty list to store cubes\n",
    "\n",
    "# Loop through nums and append cubes to the cubes list\n",
    "for num in nums:\n",
    "    cubes.append(num ** 3)  # Cubing the number and appending\n",
    "\n",
    "# Print the cubes list\n",
    "print(\"List of cubes:\", cubes)\n"
   ]
  },
  {
   "cell_type": "code",
   "execution_count": 31,
   "metadata": {},
   "outputs": [
    {
     "name": "stdout",
     "output_type": "stream",
     "text": [
      "Animal Legs Dictionary: {'parrot': 2, 'goat': 4, 'spider': 8, 'crab': 10}\n"
     ]
    }
   ],
   "source": [
    "# Task 1.2: Create an empty dictionary and add key-value pairs\n",
    "animal_legs = {}  # Empty dictionary\n",
    "\n",
    "# Adding data to the dictionary\n",
    "animal_legs['parrot'] = 2\n",
    "animal_legs['goat'] = 4\n",
    "animal_legs['spider'] = 8\n",
    "animal_legs['crab'] = 10\n",
    "\n",
    "# Print the dictionary\n",
    "print(\"Animal Legs Dictionary:\", animal_legs)\n"
   ]
  },
  {
   "cell_type": "code",
   "execution_count": 32,
   "metadata": {},
   "outputs": [
    {
     "name": "stdout",
     "output_type": "stream",
     "text": [
      "The parrot has 2 legs.\n",
      "The goat has 4 legs.\n",
      "The spider has 8 legs.\n",
      "The crab has 10 legs.\n",
      "Total number of legs: 24\n"
     ]
    }
   ],
   "source": [
    "# Task 1.3: Loop through the dictionary and print animals and their legs, then sum the legs\n",
    "animal_legs = {\n",
    "    'parrot': 2,\n",
    "    'goat': 4,\n",
    "    'spider': 8,\n",
    "    'crab': 10\n",
    "}\n",
    "\n",
    "# Initialize a variable to store the total number of legs\n",
    "total_legs = 0\n",
    "\n",
    "# Loop through the dictionary and print the animals with their corresponding legs\n",
    "for animal, legs in animal_legs.items():\n",
    "    print(f\"The {animal} has {legs} legs.\")\n",
    "    total_legs += legs  # Add the number of legs to the total\n",
    "\n",
    "# Print the total number of legs\n",
    "print(f\"Total number of legs: {total_legs}\")"
   ]
  },
  {
   "cell_type": "code",
   "execution_count": 33,
   "metadata": {},
   "outputs": [
    {
     "name": "stdout",
     "output_type": "stream",
     "text": [
      "Modified tuple: (3, 9, 4, [8, 6])\n"
     ]
    }
   ],
   "source": [
    "# Task 1.4: Create a tuple and change the value in the list inside it\n",
    "A = (3, 9, 4, [5, 6])  # Tuple containing a list\n",
    "\n",
    "# Changing the value in the list from 5 to 8\n",
    "A[3][0] = 8  # Accessing the list inside the tuple and modifying its first element\n",
    "\n",
    "# Print the modified tuple\n",
    "print(\"Modified tuple:\", A)\n"
   ]
  },
  {
   "cell_type": "code",
   "execution_count": 34,
   "metadata": {},
   "outputs": [],
   "source": [
    "# Task 1.5: Delete the tuple\n",
    "A = (3, 9, 4, [5, 6])  # Define the tuple\n",
    "\n",
    "# Deleting the tuple A\n",
    "del A\n",
    "\n",
    "# Trying to print the tuple after deletion (this will cause an error if uncommented)\n",
    "# print(A)  # This will raise a NameError because A has been deleted\n"
   ]
  },
  {
   "cell_type": "code",
   "execution_count": 35,
   "metadata": {},
   "outputs": [
    {
     "name": "stdout",
     "output_type": "stream",
     "text": [
      "The number of occurrences of 'p': 2\n"
     ]
    }
   ],
   "source": [
    "# Task 1.6: Create a tuple and count the occurrences of 'p'\n",
    "B = ('a', 'p', 'p', 'l', 'e')  # Define the tuple\n",
    "\n",
    "# Count the number of occurrences of 'p'\n",
    "p_count = B.count('p')\n",
    "\n",
    "# Print the result\n",
    "print(\"The number of occurrences of 'p':\", p_count)\n"
   ]
  },
  {
   "cell_type": "code",
   "execution_count": 36,
   "metadata": {},
   "outputs": [
    {
     "name": "stdout",
     "output_type": "stream",
     "text": [
      "The index of 'l' in the tuple: 3\n"
     ]
    }
   ],
   "source": [
    "# Find the index of 'l'\n",
    "l_index = B.index('l')\n",
    "\n",
    "# Print the result\n",
    "print(\"The index of 'l' in the tuple:\", l_index)\n"
   ]
  },
  {
   "cell_type": "code",
   "execution_count": 37,
   "metadata": {},
   "outputs": [
    {
     "name": "stdout",
     "output_type": "stream",
     "text": [
      "Matrix A as a NumPy array:\n",
      " [[ 1  2  3  4]\n",
      " [ 5  6  7  8]\n",
      " [ 9 10 11 12]]\n"
     ]
    }
   ],
   "source": [
    "import numpy as np  # Importing the numpy library\n",
    "\n",
    "# Task 2.1: Convert matrix A into a NumPy array\n",
    "A = [\n",
    "    [1, 2, 3, 4],\n",
    "    [5, 6, 7, 8],\n",
    "    [9, 10, 11, 12]\n",
    "]  # Define the matrix A as a list of lists\n",
    "\n",
    "# Convert the matrix into a NumPy array\n",
    "A_np = np.array(A)\n",
    "\n",
    "# Print the NumPy array\n",
    "print(\"Matrix A as a NumPy array:\\n\", A_np)\n"
   ]
  },
  {
   "cell_type": "code",
   "execution_count": 38,
   "metadata": {},
   "outputs": [
    {
     "name": "stdout",
     "output_type": "stream",
     "text": [
      "Subarray b (first 2 rows and columns 1 and 2):\n",
      " [[1 2]\n",
      " [5 6]]\n"
     ]
    }
   ],
   "source": [
    "# Task 2.2: Slice the first 2 rows and columns 1 and 2\n",
    "b = A_np[:2, :2]  # First 2 rows and first 2 columns\n",
    "\n",
    "# Print the resulting subarray\n",
    "print(\"Subarray b (first 2 rows and columns 1 and 2):\\n\", b)"
   ]
  },
  {
   "cell_type": "code",
   "execution_count": 39,
   "metadata": {},
   "outputs": [
    {
     "name": "stdout",
     "output_type": "stream",
     "text": [
      "Empty matrix C with the same shape as A:\n",
      " [[ 1  2  3  4]\n",
      " [ 5  6  7  8]\n",
      " [ 9 10 11 12]]\n"
     ]
    }
   ],
   "source": [
    "# Task 2.3: Create an empty matrix 'C' with the same shape as 'A'\n",
    "C = np.empty_like(A_np)  # Create an empty matrix with the same shape and type as 'A'\n",
    "\n",
    "# Print the empty matrix C\n",
    "print(\"Empty matrix C with the same shape as A:\\n\", C)"
   ]
  },
  {
   "cell_type": "code",
   "execution_count": 40,
   "metadata": {},
   "outputs": [
    {
     "name": "stdout",
     "output_type": "stream",
     "text": [
      "Matrix C after adding vector z to each column of A:\n",
      " [[ 2  3  4  5]\n",
      " [ 5  6  7  8]\n",
      " [10 11 12 13]]\n"
     ]
    }
   ],
   "source": [
    "z = np.array([1, 0, 1])  # Define vector z\n",
    "\n",
    "# Task 2.4: Add the vector z to each column of matrix A using an explicit loop and store the result in C\n",
    "C = np.empty_like(A_np)  # Create an empty matrix C with the same shape as A\n",
    "\n",
    "# Loop through each column and add vector z to it\n",
    "for i in range(A_np.shape[1]):  # Loop over the number of columns\n",
    "    C[:, i] = A_np[:, i] + z  # Add z to each column of A\n",
    "\n",
    "# Print the result\n",
    "print(\"Matrix C after adding vector z to each column of A:\\n\", C)"
   ]
  },
  {
   "cell_type": "code",
   "execution_count": 41,
   "metadata": {},
   "outputs": [
    {
     "name": "stdout",
     "output_type": "stream",
     "text": [
      "The sum of matrices X and Y:\n",
      " [[ 6  8]\n",
      " [10 12]]\n"
     ]
    }
   ],
   "source": [
    "# Define matrices X and Y\n",
    "X = np.array([[1, 2], [3, 4]])\n",
    "Y = np.array([[5, 6], [7, 8]])\n",
    "\n",
    "# Task 2.5: Add the matrices X and Y\n",
    "result = X + Y  # Element-wise addition of X and Y\n",
    "\n",
    "# Print the result\n",
    "print(\"The sum of matrices X and Y:\\n\", result)\n"
   ]
  },
  {
   "cell_type": "code",
   "execution_count": 42,
   "metadata": {},
   "outputs": [
    {
     "name": "stdout",
     "output_type": "stream",
     "text": [
      "The product of matrices X and Y:\n",
      " [[19 22]\n",
      " [43 50]]\n"
     ]
    }
   ],
   "source": [
    "# Define matrices X and Y\n",
    "X = np.array([[1, 2], [3, 4]])\n",
    "Y = np.array([[5, 6], [7, 8]])\n",
    "\n",
    "# Task 2.6: Multiply the matrices X and Y (matrix multiplication)\n",
    "result = np.dot(X, Y)  # Matrix multiplication of X and Y\n",
    "\n",
    "# Print the result\n",
    "print(\"The product of matrices X and Y:\\n\", result)"
   ]
  },
  {
   "cell_type": "code",
   "execution_count": 43,
   "metadata": {},
   "outputs": [
    {
     "name": "stdout",
     "output_type": "stream",
     "text": [
      "Element-wise square root of matrix Y:\n",
      " [[2.23606798 2.44948974]\n",
      " [2.64575131 2.82842712]]\n"
     ]
    }
   ],
   "source": [
    "# Define matrix Y\n",
    "Y = np.array([[5, 6], [7, 8]])\n",
    "\n",
    "# Task 2.7: Compute and print the element-wise square root of matrix Y\n",
    "sqrt_Y = np.sqrt(Y)  # Element-wise square root of Y\n",
    "\n",
    "# Print the result\n",
    "print(\"Element-wise square root of matrix Y:\\n\", sqrt_Y)"
   ]
  },
  {
   "cell_type": "code",
   "execution_count": 44,
   "metadata": {},
   "outputs": [
    {
     "name": "stdout",
     "output_type": "stream",
     "text": [
      "The dot product of matrix X and vector v:\n",
      " [29 67]\n"
     ]
    }
   ],
   "source": [
    "# Define matrix X and vector v\n",
    "X = np.array([[1, 2], [3, 4]])\n",
    "v = np.array([9, 10])\n",
    "\n",
    "# Task 2.8: Compute and print the dot product of matrix X and vector v\n",
    "dot_product = np.dot(X, v)  # Dot product of matrix X and vector v\n",
    "\n",
    "# Print the result\n",
    "print(\"The dot product of matrix X and vector v:\\n\", dot_product)"
   ]
  },
  {
   "cell_type": "code",
   "execution_count": 45,
   "metadata": {},
   "outputs": [
    {
     "name": "stdout",
     "output_type": "stream",
     "text": [
      "The sum of each column of matrix X:\n",
      " [4 6]\n"
     ]
    }
   ],
   "source": [
    "# Define matrix X\n",
    "X = np.array([[1, 2], [3, 4]])\n",
    "\n",
    "# Task 2.9: Compute and print the sum of each column of X\n",
    "column_sum = np.sum(X, axis=0)  # Sum along columns (axis=0)\n",
    "\n",
    "# Print the result\n",
    "print(\"The sum of each column of matrix X:\\n\", column_sum)"
   ]
  },
  {
   "cell_type": "code",
   "execution_count": 46,
   "metadata": {},
   "outputs": [
    {
     "name": "stdout",
     "output_type": "stream",
     "text": [
      "Velocity: 6.666666666666667 m/s\n"
     ]
    }
   ],
   "source": [
    "# Task 3.1: Create a function 'Compute' to calculate velocity\n",
    "def Compute(distance, time):\n",
    "    if time != 0:\n",
    "        velocity = distance / time  # Calculate velocity as distance divided by time\n",
    "        return velocity\n",
    "    else:\n",
    "        return \"Time cannot be zero!\"  # Handle division by zero\n",
    "\n",
    "# Example usage of the Compute function\n",
    "distance = 100  # Example distance in meters\n",
    "time = 15       # Example time in seconds\n",
    "\n",
    "velocity = Compute(distance, time)\n",
    "\n",
    "# Print the calculated velocity\n",
    "print(\"Velocity:\", velocity, \"m/s\")"
   ]
  },
  {
   "cell_type": "code",
   "execution_count": 47,
   "metadata": {},
   "outputs": [
    {
     "name": "stdout",
     "output_type": "stream",
     "text": [
      "The product of all even numbers: 46080\n"
     ]
    }
   ],
   "source": [
    "# Task 3.2: Create a list of even numbers and a function to calculate the product\n",
    "\n",
    "# Create a list of even numbers up to 12\n",
    "even_num = [2, 4, 6, 8, 10, 12]\n",
    "\n",
    "# Define the function 'mult' to calculate the product of all entries in the list\n",
    "def mult(numbers):\n",
    "    product = 1  # Start with 1 as the multiplicative identity\n",
    "    for num in numbers:\n",
    "        product *= num  # Multiply each number to the product\n",
    "    return product\n",
    "\n",
    "# Call the function and calculate the product of the list 'even_num'\n",
    "result = mult(even_num)\n",
    "\n",
    "# Print the result\n",
    "print(\"The product of all even numbers:\", result)"
   ]
  },
  {
   "cell_type": "code",
   "execution_count": 1,
   "metadata": {},
   "outputs": [
    {
     "name": "stdout",
     "output_type": "stream",
     "text": [
      "First two rows of the DataFrame:\n",
      "    C1  C2  C3  C4\n",
      "0   1   6   7   7\n",
      "1   2   7   9   5\n"
     ]
    }
   ],
   "source": [
    "import pandas as pd  \n",
    "# Create a Pandas DataFrame\n",
    "data = {\n",
    "    'C1': [1, 2, 3, 5, 5],\n",
    "    'C2': [6, 7, 5, 4, 8],\n",
    "    'C3': [7, 9, 8, 6, 5],\n",
    "    'C4': [7, 5, 2, 8, 8]\n",
    "}\n",
    "\n",
    "df = pd.DataFrame(data)  # Create DataFrame from the data\n",
    "\n",
    "# Task 4.1: Print the first two rows of the DataFrame\n",
    "print(\"First two rows of the DataFrame:\\n\", df.head(2))"
   ]
  },
  {
   "cell_type": "code",
   "execution_count": 49,
   "metadata": {},
   "outputs": [
    {
     "name": "stdout",
     "output_type": "stream",
     "text": [
      "Second column (C2) of the DataFrame:\n",
      " 0    6\n",
      "1    7\n",
      "2    5\n",
      "3    4\n",
      "4    8\n",
      "Name: C2, dtype: int64\n"
     ]
    }
   ],
   "source": [
    "# Task 4.2: Print the second column of the DataFrame\n",
    "second_column = df['C2']  # Access the second column by its name\n",
    "print(\"Second column (C2) of the DataFrame:\\n\", second_column)"
   ]
  },
  {
   "cell_type": "code",
   "execution_count": 50,
   "metadata": {},
   "outputs": [
    {
     "name": "stdout",
     "output_type": "stream",
     "text": [
      "DataFrame after renaming 'C3' to 'B3':\n",
      "    C1  C2  B3  C4\n",
      "0   1   6   7   7\n",
      "1   2   7   9   5\n",
      "2   3   5   8   2\n",
      "3   5   4   6   8\n",
      "4   5   8   5   8\n"
     ]
    }
   ],
   "source": [
    "# Task 4.3: Rename the third column 'C3' to 'B3'\n",
    "df.rename(columns={'C3': 'B3'}, inplace=True)\n",
    "\n",
    "# Print the updated DataFrame\n",
    "print(\"DataFrame after renaming 'C3' to 'B3':\\n\", df)"
   ]
  },
  {
   "cell_type": "code",
   "execution_count": 51,
   "metadata": {},
   "outputs": [
    {
     "name": "stdout",
     "output_type": "stream",
     "text": [
      "DataFrame after adding the 'Sum' column:\n",
      "    C1  C2  B3  C4  Sum\n",
      "0   1   6   7   7   21\n",
      "1   2   7   9   5   23\n",
      "2   3   5   8   2   18\n",
      "3   5   4   6   8   23\n",
      "4   5   8   5   8   26\n"
     ]
    }
   ],
   "source": [
    "# Task 4.4: Add a new column to the DataFrame and name it 'Sum'\n",
    "df['Sum'] = df.sum(axis=1)  # Sum each row and store it in the new 'Sum' column\n",
    "\n",
    "# Print the updated DataFrame\n",
    "print(\"DataFrame after adding the 'Sum' column:\\n\", df)"
   ]
  },
  {
   "cell_type": "code",
   "execution_count": 52,
   "metadata": {},
   "outputs": [
    {
     "name": "stdout",
     "output_type": "stream",
     "text": [
      "DataFrame after summing the entries of each row:\n",
      "    C1  C2  B3  C4  Sum  Sum2\n",
      "0   1   6   7   7   21    21\n",
      "1   2   7   9   5   23    23\n",
      "2   3   5   8   2   18    18\n",
      "3   5   4   6   8   23    23\n",
      "4   5   8   5   8   26    26\n"
     ]
    }
   ],
   "source": [
    "# Task 4.5: Sum the entries of each row and add the result in the 'Sum' column\n",
    "df['Sum2'] = df[['C1', 'C2', 'B3', 'C4']].sum(axis=1)  # Sum the entries of each row\n",
    "\n",
    "# Print the updated DataFrame\n",
    "print(\"DataFrame after summing the entries of each row:\\n\", df)"
   ]
  },
  {
   "cell_type": "code",
   "execution_count": 53,
   "metadata": {},
   "outputs": [
    {
     "name": "stdout",
     "output_type": "stream",
     "text": [
      "DataFrame from 'hello_sample.csv':\n",
      "     Gender  F_Color     B_Month  Weight\n",
      "0     Male    Black       March      77\n",
      "1     Male      Red       March      72\n",
      "2     Male    Black     October      53\n",
      "3   Female     Blue    February      63\n",
      "4     Male    black    October       80\n",
      "5   Female    Black    december      97\n",
      "6     Male   Orange      August      60\n",
      "7   Female      Red   September      59\n",
      "8     Male     Blue        July      60\n",
      "9     Male     Blue         May      58\n",
      "10  Female      Red    October       60\n",
      "11    Male    Black   September      65\n",
      "12    Male    Green    December      85\n",
      "13    Male    Black       April      72\n",
      "14    Male    Green    January       90\n",
      "15    Male   Yellow   November       90\n",
      "16    Male    Black      August      54\n",
      "17    Male    Black     January      82\n",
      "18    Male  Mustard   December       60\n",
      "19  Female    Black    October       76\n",
      "20    Male    Black   February       67\n",
      "21    Male   Yellow       April      74\n",
      "22    Male      Red  September       66\n"
     ]
    }
   ],
   "source": [
    "# Task 4.6: Read the CSV file 'hello_sample.csv' into a Pandas DataFrame\n",
    "df_csv = pd.read_csv('hello_sample.csv')  # Replace with the correct path to your CSV file\n",
    "\n",
    "# Print the DataFrame\n",
    "print(\"DataFrame from 'hello_sample.csv':\\n\", df_csv)"
   ]
  },
  {
   "cell_type": "code",
   "execution_count": 54,
   "metadata": {},
   "outputs": [
    {
     "name": "stdout",
     "output_type": "stream",
     "text": [
      "Complete DataFrame from 'hello_sample.csv':\n",
      "     Gender  F_Color     B_Month  Weight\n",
      "0     Male    Black       March      77\n",
      "1     Male      Red       March      72\n",
      "2     Male    Black     October      53\n",
      "3   Female     Blue    February      63\n",
      "4     Male    black    October       80\n",
      "5   Female    Black    december      97\n",
      "6     Male   Orange      August      60\n",
      "7   Female      Red   September      59\n",
      "8     Male     Blue        July      60\n",
      "9     Male     Blue         May      58\n",
      "10  Female      Red    October       60\n",
      "11    Male    Black   September      65\n",
      "12    Male    Green    December      85\n",
      "13    Male    Black       April      72\n",
      "14    Male    Green    January       90\n",
      "15    Male   Yellow   November       90\n",
      "16    Male    Black      August      54\n",
      "17    Male    Black     January      82\n",
      "18    Male  Mustard   December       60\n",
      "19  Female    Black    October       76\n",
      "20    Male    Black   February       67\n",
      "21    Male   Yellow       April      74\n",
      "22    Male      Red  September       66\n"
     ]
    }
   ],
   "source": [
    "#Task 4.7\n",
    "\n",
    "# Print the complete DataFrame\n",
    "print(\"Complete DataFrame from 'hello_sample.csv':\\n\", df_csv)"
   ]
  },
  {
   "cell_type": "code",
   "execution_count": 55,
   "metadata": {},
   "outputs": [
    {
     "name": "stdout",
     "output_type": "stream",
     "text": [
      "Bottom 2 records of the DataFrame:\n",
      "    Gender F_Color     B_Month  Weight\n",
      "21   Male  Yellow       April      74\n",
      "22   Male     Red  September       66\n"
     ]
    }
   ],
   "source": [
    "#Task 4.8\n",
    "# Print the bottom 2 records of the DataFrame\n",
    "print(\"Bottom 2 records of the DataFrame:\\n\", df_csv.tail(2))"
   ]
  },
  {
   "cell_type": "code",
   "execution_count": 56,
   "metadata": {},
   "outputs": [
    {
     "name": "stdout",
     "output_type": "stream",
     "text": [
      "Information about the DataFrame:\n",
      "<class 'pandas.core.frame.DataFrame'>\n",
      "RangeIndex: 23 entries, 0 to 22\n",
      "Data columns (total 4 columns):\n",
      " #   Column   Non-Null Count  Dtype \n",
      "---  ------   --------------  ----- \n",
      " 0   Gender   23 non-null     object\n",
      " 1   F_Color  23 non-null     object\n",
      " 2   B_Month  23 non-null     object\n",
      " 3   Weight   23 non-null     int64 \n",
      "dtypes: int64(1), object(3)\n",
      "memory usage: 868.0+ bytes\n"
     ]
    }
   ],
   "source": [
    "#Task 4.9\n",
    "# Print information about the DataFrame\n",
    "print(\"Information about the DataFrame:\")\n",
    "df_csv.info()"
   ]
  },
  {
   "cell_type": "code",
   "execution_count": 57,
   "metadata": {},
   "outputs": [
    {
     "name": "stdout",
     "output_type": "stream",
     "text": [
      "Shape of the DataFrame (rows, columns): (23, 4)\n"
     ]
    }
   ],
   "source": [
    "#Task 4.10\n",
    "# Print the shape of the DataFrame\n",
    "print(\"Shape of the DataFrame (rows, columns):\", df_csv.shape)"
   ]
  },
  {
   "cell_type": "code",
   "execution_count": 58,
   "metadata": {},
   "outputs": [
    {
     "name": "stdout",
     "output_type": "stream",
     "text": [
      "DataFrame sorted by 'Weight':\n",
      "     Gender  F_Color     B_Month  Weight\n",
      "2     Male    Black     October      53\n",
      "16    Male    Black      August      54\n",
      "9     Male     Blue         May      58\n",
      "7   Female      Red   September      59\n",
      "18    Male  Mustard   December       60\n",
      "10  Female      Red    October       60\n",
      "6     Male   Orange      August      60\n",
      "8     Male     Blue        July      60\n",
      "3   Female     Blue    February      63\n",
      "11    Male    Black   September      65\n",
      "22    Male      Red  September       66\n",
      "20    Male    Black   February       67\n",
      "13    Male    Black       April      72\n",
      "1     Male      Red       March      72\n",
      "21    Male   Yellow       April      74\n",
      "19  Female    Black    October       76\n",
      "0     Male    Black       March      77\n",
      "4     Male    black    October       80\n",
      "17    Male    Black     January      82\n",
      "12    Male    Green    December      85\n",
      "14    Male    Green    January       90\n",
      "15    Male   Yellow   November       90\n",
      "5   Female    Black    december      97\n"
     ]
    }
   ],
   "source": [
    "#Task 4.11\n",
    "# Sort the DataFrame using the 'Weight' column\n",
    "df_sorted = df_csv.sort_values(by='Weight')\n",
    "\n",
    "# Print the sorted DataFrame\n",
    "print(\"DataFrame sorted by 'Weight':\\n\", df_sorted)"
   ]
  },
  {
   "cell_type": "code",
   "execution_count": 59,
   "metadata": {},
   "outputs": [
    {
     "name": "stdout",
     "output_type": "stream",
     "text": [
      "Null value check (True indicates missing values):\n",
      "     Gender  F_Color  B_Month  Weight\n",
      "0    False    False    False   False\n",
      "1    False    False    False   False\n",
      "2    False    False    False   False\n",
      "3    False    False    False   False\n",
      "4    False    False    False   False\n",
      "5    False    False    False   False\n",
      "6    False    False    False   False\n",
      "7    False    False    False   False\n",
      "8    False    False    False   False\n",
      "9    False    False    False   False\n",
      "10   False    False    False   False\n",
      "11   False    False    False   False\n",
      "12   False    False    False   False\n",
      "13   False    False    False   False\n",
      "14   False    False    False   False\n",
      "15   False    False    False   False\n",
      "16   False    False    False   False\n",
      "17   False    False    False   False\n",
      "18   False    False    False   False\n",
      "19   False    False    False   False\n",
      "20   False    False    False   False\n",
      "21   False    False    False   False\n",
      "22   False    False    False   False\n",
      "\n",
      "DataFrame after dropping rows with missing values:\n",
      "     Gender  F_Color     B_Month  Weight\n",
      "0     Male    Black       March      77\n",
      "1     Male      Red       March      72\n",
      "2     Male    Black     October      53\n",
      "3   Female     Blue    February      63\n",
      "4     Male    black    October       80\n",
      "5   Female    Black    december      97\n",
      "6     Male   Orange      August      60\n",
      "7   Female      Red   September      59\n",
      "8     Male     Blue        July      60\n",
      "9     Male     Blue         May      58\n",
      "10  Female      Red    October       60\n",
      "11    Male    Black   September      65\n",
      "12    Male    Green    December      85\n",
      "13    Male    Black       April      72\n",
      "14    Male    Green    January       90\n",
      "15    Male   Yellow   November       90\n",
      "16    Male    Black      August      54\n",
      "17    Male    Black     January      82\n",
      "18    Male  Mustard   December       60\n",
      "19  Female    Black    October       76\n",
      "20    Male    Black   February       67\n",
      "21    Male   Yellow       April      74\n",
      "22    Male      Red  September       66\n"
     ]
    }
   ],
   "source": [
    "#Task 4.12\n",
    "# Check for null values using isnull()\n",
    "null_check = df_csv.isnull()\n",
    "\n",
    "# Use dropna() to remove rows with any missing values\n",
    "df_no_na = df_csv.dropna()\n",
    "\n",
    "# Print the results\n",
    "print(\"Null value check (True indicates missing values):\\n\", null_check)\n",
    "print(\"\\nDataFrame after dropping rows with missing values:\\n\", df_no_na)"
   ]
  },
  {
   "cell_type": "code",
   "execution_count": 60,
   "metadata": {},
   "outputs": [
    {
     "name": "stdout",
     "output_type": "stream",
     "text": [
      "Null value check (True indicates missing values):\n",
      "     Gender  F_Color  B_Month  Weight\n",
      "0    False    False    False   False\n",
      "1    False    False    False   False\n",
      "2    False    False    False   False\n",
      "3    False    False    False   False\n",
      "4    False    False    False   False\n",
      "5    False    False    False   False\n",
      "6    False    False    False   False\n",
      "7    False    False    False   False\n",
      "8    False    False    False   False\n",
      "9    False    False    False   False\n",
      "10   False    False    False   False\n",
      "11   False    False    False   False\n",
      "12   False    False    False   False\n",
      "13   False    False    False   False\n",
      "14   False    False    False   False\n",
      "15   False    False    False   False\n",
      "16   False    False    False   False\n",
      "17   False    False    False   False\n",
      "18   False    False    False   False\n",
      "19   False    False    False   False\n",
      "20   False    False    False   False\n",
      "21   False    False    False   False\n",
      "22   False    False    False   False\n",
      "\n",
      "DataFrame after dropping rows with missing values:\n",
      "     Gender  F_Color     B_Month  Weight\n",
      "0     Male    Black       March      77\n",
      "1     Male      Red       March      72\n",
      "2     Male    Black     October      53\n",
      "3   Female     Blue    February      63\n",
      "4     Male    black    October       80\n",
      "5   Female    Black    december      97\n",
      "6     Male   Orange      August      60\n",
      "7   Female      Red   September      59\n",
      "8     Male     Blue        July      60\n",
      "9     Male     Blue         May      58\n",
      "10  Female      Red    October       60\n",
      "11    Male    Black   September      65\n",
      "12    Male    Green    December      85\n",
      "13    Male    Black       April      72\n",
      "14    Male    Green    January       90\n",
      "15    Male   Yellow   November       90\n",
      "16    Male    Black      August      54\n",
      "17    Male    Black     January      82\n",
      "18    Male  Mustard   December       60\n",
      "19  Female    Black    October       76\n",
      "20    Male    Black   February       67\n",
      "21    Male   Yellow       April      74\n",
      "22    Male      Red  September       66\n"
     ]
    }
   ],
   "source": [
    "#Task 4.12\n",
    "# Check for null values using isnull()\n",
    "null_check = df_csv.isnull()\n",
    "\n",
    "# Use dropna() to remove rows with any missing values\n",
    "df_no_na = df_csv.dropna()\n",
    "\n",
    "# Print the results\n",
    "print(\"Null value check (True indicates missing values):\\n\", null_check)\n",
    "print(\"\\nDataFrame after dropping rows with missing values:\\n\", df_no_na)"
   ]
  }
 ],
 "metadata": {
  "kernelspec": {
   "display_name": "Python 3",
   "language": "python",
   "name": "python3"
  },
  "language_info": {
   "codemirror_mode": {
    "name": "ipython",
    "version": 3
   },
   "file_extension": ".py",
   "mimetype": "text/x-python",
   "name": "python",
   "nbconvert_exporter": "python",
   "pygments_lexer": "ipython3",
   "version": "3.11.4"
  }
 },
 "nbformat": 4,
 "nbformat_minor": 2
}
